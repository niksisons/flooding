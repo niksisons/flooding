{
  "cells": [
    {
      "cell_type": "markdown",
      "id": "3dac7b53",
      "metadata": {
        "language": "markdown"
      },
      "source": [
        "# Диаграмма классов для гео-портала"
      ]
    },
    {
      "cell_type": "markdown",
      "id": "4df76df1",
      "metadata": {},
      "source": [
        "![alt text](dPJDQXH14CVl2_iEpPxyWA3NmKECcuM02u5412zBfRkoDkcFeRjwDOgWNXNoAecIw47p33rlPFUicncToI3UPkfVLVslNzVCjYTm5BGQZ_o9D2Kuq8mhyFunaPD7WN2FMtCWto1xC1wDHxN6fhlpcLJ8tev7ZDq_Jey5ou6PH2NgM2YL1O5Y0LImAH0UIjsIIsSvUe-YO3lMAWJJQDmwXvnIRLzZu3pee8.svg)"
      ]
    },
    {
      "cell_type": "markdown",
      "id": "caac7533",
      "metadata": {
        "language": "markdown"
      },
      "source": [
        "## Описание\n",
        "\n",
        "- **DEMFile** — отдельная сущность для хранения исходных и обработанных DEM-файлов.\n",
        "- **FloodZone** — зона затопления, связана с пользователем (created_by).\n",
        "- **FloodEvent** — событие затопления, также связано с пользователем (created_by).\n",
        "- **MeasurementPoint** — точка измерения уровня воды.\n",
        "- **WaterLevelMeasurement** — измерение уровня воды, связано с MeasurementPoint.\n",
        "- **User** — стандартная модель пользователя Django."
      ]
    },
    {
      "cell_type": "markdown",
      "id": "7d202600",
      "metadata": {},
      "source": [
        "# Блок схему последовательности обработки данных "
      ]
    },
    {
      "cell_type": "markdown",
      "id": "d66895a3",
      "metadata": {},
      "source": [
        "![alt text](flood_detection_flowchart.svg)"
      ]
    },
    {
      "cell_type": "markdown",
      "id": "916f88ea",
      "metadata": {},
      "source": [
        "## Метод сравнения гидрологической модели (ЦМР/DEM) с фактическим состоянием\n",
        "\n",
        "https://github.com/KonstantinosF/Flood-Detection---Satellite-Images\n",
        "\n",
        "Обычно реализуется следующим образом:\n",
        "\n",
        "### 1. Генерация базовой гидрологической модели (DEM/ЦМР):\n",
        "\n",
        "- Вы выполняете гидрологическую коррекцию DEM, получаете скорректированный DEM и карту аккумуляции.\n",
        "- Из DEM можно выделить потенциальные зоны затопления.\n",
        "\n",
        "\n",
        "### 2. Извлечение фактических зон затопления из ДЗЗ:\n",
        "\n",
        "- На спутниковых снимках (ДЗЗ) выделяются водные объекты (например, с помощью классификации, NDWI, машинного обучения).\n",
        "- Получается маска фактических затоплений (растр или вектор).\n",
        "\n",
        "\n",
        "### 3. Приведение к единой системе координат и разрешению:\n",
        "\n",
        "- Оба слоя (DEM и маска затопления) должны быть приведены к одной проекции и разрешению.\n",
        "\n",
        "\n",
        "### 4. Сравнение:\n",
        "\n",
        "- Для каждой ячейки/пикселя/полигона сравнивается состояние:\n",
        "  - Если по DEM в данной точке не должно быть воды (например, высота выше порога), а по ДЗЗ вода есть — это потенциальное затопление.\n",
        "  - Если по DEM вода должна быть, а по ДЗЗ её нет — возможна ошибка данных или осушение.\n",
        "\n",
        "- **Можно использовать метрики:**\n",
        "  - **IoU (Intersection over Union)** — пересечение/объединение масок затоплений.\n",
        "  - **Pixel-wise accuracy** — доля совпадающих пикселей.\n",
        "  - **Difference map** — карта различий (где есть расхождения)."
      ]
    }
  ],
  "metadata": {
    "language_info": {
      "name": "python"
    }
  },
  "nbformat": 4,
  "nbformat_minor": 5
}
